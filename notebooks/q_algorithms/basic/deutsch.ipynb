{
 "cells": [
  {
   "cell_type": "markdown",
   "metadata": {},
   "source": [
    "## Deutsch's Algorithm\n",
    "Based on:\n",
    "1. Kaye, P., Laflamme, R., & Mosca, M. (2007). *An Introduction to Quantum Computing*. Oxford University Press.\n",
    "2. [Video: Deutsch's Algorithm: An Introduction to Quantum Computing Oracles](https://www.youtube.com/watch?v=7MdEHsRZxvo)\n",
    "\n",
    "\n",
    "Imagine we have a function $f: \\{0, 1\\} \\rightarrow \\{0, 1\\}$. This function can also be thought of as a  <strong>Quantum Oracle</strong>. \n",
    "\n",
    "An **oracle** is a \"black-box\" function that we can query to retrieve information about a mathematical problem. \n",
    "\n",
    "### Quantum Oracle\n",
    "\n",
    "A <strong> Quantum Oracle </strong> is the quantum equivalent of a classical oracle:\n",
    "- It can be described as a quantum operator $U_f$ that acts upon a two-qubit system:\n",
    "$$U_f \\ket{x, y} = \\ket{x, y \\oplus f(x)}$$ \n",
    "\n",
    "We do not know anything about this function, and cannot pry into its inner workings. We can however, send in a bit and read the output. Our task is to determine wether the function is **constant** or **balanced**. \n",
    "\n",
    "- In a **constant** function, the output is the same no matter the input. (Constant 1 or constant 0)\n",
    "- In a **balanced** function, the function returns 1s and 0s in equal quantity\n",
    "\n",
    "\n",
    "<strong>Classical Computers: </strong> need 2 queries of the function to determine if $f(0) = f(1) $. It needs to calculate both $f(0)$ and $f(1)$. \n",
    "\n",
    "<strong> A Quantum Computer </strong>using Deutsch's algorithm, can determine $f$ with just <strong> one query </strong> to the quantum oracle, by exploiting superposition and interference. It thus possesses a <strong>Quantum Advantage</strong>.\n",
    "\n",
    "\n",
    "### Phase Oracles\n",
    "A special case of quantum oracles are <strong>phase oracles</strong>. When we set the target qubit y to the minus state $y = \\ket{-} $ we get what is known as phase kickback. Here, a phase is applied to the input qubit, instead of the function being applied to the target qubit. \n",
    "\n",
    "$$ \\ket{x} \\ket{-} \\rightarrow^{U_f} (-1)^{f(x)}\\ket{x}\\ket{-}$$\n",
    "\n",
    "This result is used in many quantum algorithms\n",
    "\n",
    "Proving the previous statement\n",
    "$$ \\ket{x}\\ket{-} = \\ket{x} \\frac{1}{\\sqrt{2}}(\\ket{0} - \\ket{1}) $$\n",
    "\n",
    "$$ \\frac{1}{\\sqrt{2}}(\\ket{x}\\ket{0} - \\ket{x}\\ket{1}) \\rightarrow U_f \\frac{1}{\\sqrt{2}}(\\ket{x}\\ket{0} - \\ket{x}\\ket{1})$$\n",
    "\n",
    "The unitary operator/matrix $U_f$, being a linear operator, can be distributed among the terms of the sum\n",
    "$$ \\frac{1}{\\sqrt{2}}(U_f \\ket{x}\\ket{0} - U_f \\ket{x}\\ket{1})$$ \n",
    "\n",
    "Recalling a quantum oracle's description: $U_f \\ket{x, y} = \\ket{x, y \\oplus f(x)}$ \n",
    "$$ \\frac{1}{\\sqrt{2}}(\\ket{x}\\ket{0 \\oplus f(x)} - \\ket{x}\\ket{1\\oplus f(x)})$$ \n",
    "This then becomes \n",
    "\n",
    "$$ \\frac{1}{\\sqrt{2}} \\left( \\ket{x}\\ket{f(x)} - \\ket{x}\\ket{\\overline{f(x)}} \\right)$$ \n",
    "\n",
    "&nbsp;\n",
    "\n",
    "$$\n",
    "\\\\= \n",
    "\\begin{cases} \n",
    "\\ket{x}\\ket{-} & : f(x) = 0 \\\\[10pt]\n",
    "\\frac{1}{\\sqrt{2}} \\big( \\ket{x}\\ket{1} - \\ket{x}\\ket{0} \\big) & : f(x) = 1\n",
    "\\end{cases}\n",
    "$$\n",
    "\n"
   ]
  },
  {
   "cell_type": "markdown",
   "metadata": {},
   "source": [
    "We can further simplify the last expression, where $f(x) = 1$ \n",
    "\n",
    "$$ \\frac{1}{\\sqrt{2}} \\big( \\ket{x}\\ket{1} - \\ket{x}\\ket{0} \\big) = -\\frac{1}{\\sqrt{2}}(\\ket{x}\\ket{0} - \\ket{x}\\ket{1}) = -\\ket{x}\\ket{-}$$\n",
    "\n",
    "Thus: \n",
    "$$\n",
    "\\\\= \n",
    "\\begin{cases} \n",
    "\\ket{x}\\ket{-} & : f(x) = 0 \\\\[10pt]\n",
    "-\\ket{x}\\ket{-} & : f(x) = 1\n",
    "\\end{cases}\n",
    "$$\n",
    "\n",
    "&nbsp;\n",
    "\n",
    "&nbsp;\n",
    "\n",
    "These findings are generalize by the following expression: \n",
    "$$=(-1)^{f(x)}\\ket{x}\\ket{-}$$"
   ]
  },
  {
   "cell_type": "code",
   "execution_count": 63,
   "metadata": {},
   "outputs": [
    {
     "name": "stdout",
     "output_type": "stream",
     "text": [
      "Project root found and added to sys.path: c:\\Users\\arma2\\Desktop\\Programming Projects\\Portfolio_Projects\\quantum-information-projects\\quantum-information-projects\n"
     ]
    }
   ],
   "source": [
    "import numpy as np\n",
    "from qiskit import QuantumCircuit, transpile, QuantumRegister, ClassicalRegister\n",
    "from qiskit_aer import Aer, AerSimulator\n",
    "\n",
    "# Standard library imports\n",
    "import os\n",
    "import sys\n",
    "\n",
    "# Start from the current directory\n",
    "current_dir = os.path.abspath(os.getcwd())\n",
    "\n",
    "# Traverse up until the target folder is found\n",
    "target_folder_name = \"quantum-information-projects\"\n",
    "\n",
    "while True:\n",
    "    if os.path.basename(current_dir) == target_folder_name:\n",
    "        sys.path.append(current_dir)\n",
    "        print(f\"Project root found and added to sys.path: {current_dir}\")\n",
    "        break\n",
    "    parent_dir = os.path.abspath(os.path.join(current_dir, \"..\"))\n",
    "    if parent_dir == current_dir:  # Reached the root of the file system\n",
    "        print(f\"Error: '{target_folder_name}' folder not found.\")\n",
    "        break\n",
    "    current_dir = parent_dir\n"
   ]
  },
  {
   "cell_type": "code",
   "execution_count": 64,
   "metadata": {},
   "outputs": [
    {
     "data": {
      "image/png": "[encoded data removed]",
      "text/plain": [
       "<Figure size 370.906x284.278 with 1 Axes>"
      ]
     },
     "execution_count": 64,
     "metadata": {},
     "output_type": "execute_result"
    }
   ],
   "source": [
    "# Initializing the circuit\n",
    "qc = QuantumCircuit(2, 1)\n",
    "\n",
    "# Building the circuit before U_f\n",
    "qc.h(0)\n",
    "\n",
    "qc.x(1)\n",
    "qc.h(1)\n",
    "qc.barrier()\n",
    "\n",
    "qc.draw('mpl')"
   ]
  },
  {
   "cell_type": "code",
   "execution_count": 65,
   "metadata": {},
   "outputs": [
    {
     "data": {
      "image/png": "[encoded data removed]",
      "text/plain": [
       "<Figure size 454.517x284.278 with 1 Axes>"
      ]
     },
     "execution_count": 65,
     "metadata": {},
     "output_type": "execute_result"
    }
   ],
   "source": [
    "# Generalized U_f circuit for any function f(x)\n",
    "def uf_circuit(case: int):\n",
    "    uf = QuantumCircuit(2)  # Create a 2-qubit circuit named U_f\n",
    "\n",
    "    # Implement the oracle based on the given function\n",
    "    \n",
    "    # case 1: 0, 0\n",
    "    # case 2: 0, 1\n",
    "    # case 3: 1, 0\n",
    "    if case in [2, 3]: \n",
    "        uf.cx(0, 1)\n",
    "    if case in [3, 4]:\n",
    "        uf.x(1)\n",
    "    \n",
    "    # Convert the circuit to a gate\n",
    "    return uf.to_gate(label=r\"$U_f$\")\n",
    "\n",
    "uf_gate = uf_circuit(1)\n",
    "\n",
    "qc.append(uf_gate, [0, 1])\n",
    "qc.draw('mpl')"
   ]
  },
  {
   "cell_type": "code",
   "execution_count": 66,
   "metadata": {},
   "outputs": [
    {
     "data": {
      "image/png": "[encoded data removed]",
      "text/plain": [
       "<Figure size 621.739x284.278 with 1 Axes>"
      ]
     },
     "execution_count": 66,
     "metadata": {},
     "output_type": "execute_result"
    }
   ],
   "source": [
    "qc.h(0)\n",
    "qc.measure(0, 0)\n",
    "qc.draw('mpl')"
   ]
  },
  {
   "cell_type": "markdown",
   "metadata": {},
   "source": [
    "### **Understanding the Output**\n",
    "\n",
    "Recalling the literature on the Deutsch algorithm:\n",
    "\n",
    "- If the output of the oracle is `1`:\n",
    "  - The function $f(x)$ is **balanced** (i.e., $ f(x) = 1 $ for one input and $ f(x) = 0 $ for the other).\n",
    "  \n",
    "- If the output of the oracle is `0`:\n",
    "  - The function $ f(x) $ is **constant** (i.e., $ f(x) $ is the same for all inputs).\n",
    "\n",
    "The Deutsch algorithm achieves this distinction with a **single query** to the oracle, leveraging quantum interference to identify the global property of $ f(x) $.\n"
   ]
  },
  {
   "cell_type": "code",
   "execution_count": 71,
   "metadata": {},
   "outputs": [],
   "source": [
    "from src.utils import transpile_qc, run_circuit, create_noise_model\n",
    "import src.utils as utils\n",
    "import importlib; importlib.reload(utils)\n",
    "\n",
    "transpiled_qc = transpile_qc(qc)\n",
    "noise_m = utils.create_noise_model(p_depol=0.01)\n",
    "\n",
    "# Now executing the circuit\n",
    "countss = run_circuit(transpiled_qc).get_counts() # Without noise\n",
    "noisy_countss = run_circuit(transpiled_qc, noise_model=noise_m).get_counts() # With noise\n"
   ]
  },
  {
   "cell_type": "code",
   "execution_count": 82,
   "metadata": {},
   "outputs": [
    {
     "name": "stdout",
     "output_type": "stream",
     "text": [
      "The function f(x) is balanced\n"
     ]
    }
   ],
   "source": [
    "# Determine the most likely measurement result\n",
    "result = max(countss, key=countss.get)  # Find the key with the highest count\n",
    "\n",
    "if result == '0':\n",
    "    print(f\"The function f(x) is balanced\")\n",
    "elif result == '1':\n",
    "    print(f\"The function f(x) is unbalanced\")"
   ]
  }
 ],
 "metadata": {
  "kernelspec": {
   "display_name": "Python 3",
   "language": "python",
   "name": "python3"
  },
  "language_info": {
   "codemirror_mode": {
    "name": "ipython",
    "version": 3
   },
   "file_extension": ".py",
   "mimetype": "text/x-python",
   "name": "python",
   "nbconvert_exporter": "python",
   "pygments_lexer": "ipython3",
   "version": "3.12.7"
  }
 },
 "nbformat": 4,
 "nbformat_minor": 2
}
