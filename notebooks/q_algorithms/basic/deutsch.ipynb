{
 "cells": [
  {
   "cell_type": "markdown",
   "metadata": {},
   "source": [
    "## Deutsch Quantum Algorithm\n",
    "\n",
    "Imagine we have a function $f: \\{0, 1\\} \\rightarrow \\{0, 1\\}$. This function can also be thought of as a  <strong>Quantum Oracle</strong>. \n",
    "\n",
    "An **oracle** is a \"black-box\" function that we can query to retrieve information about a mathematical problem. \n",
    "\n",
    "A <strong> Quantum Oracle </strong> is the quantum equivalent of a classical oracle:\n",
    "- It can be described as a quantum operator $U_f$ that acts upon a two-qubit system:\n",
    "$$U_f \\ket{x, y} = \\ket{x, y \\oplus f(x)}$$ \n",
    "\n",
    "We do not know anything about this function, and cannot pry into its inner workings. We can however, send in a bit and read the output. Our task is to determine wether the function is **constant** or **balanced**. \n",
    "\n",
    "- In a **constant** function, the output is the same no matter the input. (Constant 1 or constant 0)\n",
    "- In a **balanced** function, the function returns 1s and 0s in equal quantity\n",
    "\n",
    "\n",
    "<strong>Classical Computers: </strong> need 2 queries of the function to determine if $f(0) = f(1) $. It needs to calculate both $f(0)$ and $f(1)$. \n",
    "\n",
    "<strong> A Quantum Computer </strong>using Deutsch's algorithm, can determine $f$ with just <strong> one query </strong> to the quantum oracle, by exploiting superposition and interference. It thus possesses a <strong>Quantum Advantage</strong>.\n"
   ]
  },
  {
   "cell_type": "code",
   "execution_count": 2,
   "metadata": {},
   "outputs": [],
   "source": [
    "import numpy as np\n",
    "from qiskit import QuantumCircuit, transpile\n",
    "from qiskit_aer import Aer, AerSimulator\n"
   ]
  }
 ],
 "metadata": {
  "kernelspec": {
   "display_name": "Python 3",
   "language": "python",
   "name": "python3"
  },
  "language_info": {
   "codemirror_mode": {
    "name": "ipython",
    "version": 3
   },
   "file_extension": ".py",
   "mimetype": "text/x-python",
   "name": "python",
   "nbconvert_exporter": "python",
   "pygments_lexer": "ipython3",
   "version": "3.12.7"
  }
 },
 "nbformat": 4,
 "nbformat_minor": 2
}
