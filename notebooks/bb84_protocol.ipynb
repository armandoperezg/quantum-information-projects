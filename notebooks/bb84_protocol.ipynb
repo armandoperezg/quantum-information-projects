{
 "cells": [
  {
   "cell_type": "markdown",
   "metadata": {},
   "source": [
    "### BB84 Protocol\n",
    "\n",
    "The BB84 protocol is a Quantum Key Distribution protocol that is based on the polarization states of photons transmitted from two parties, commonly refered to as Alice and Bob. It as proposed in 1984, by Bennett and Brassard, hence the BB84 name. \n",
    "\n",
    "To establish a key, Alice sends Bob n bits in the form of a polarized photon which Bob then measures. Alice sends Bob a random qubit (0 or 1) in a randomly chosen basis (Z or X). Bob then measures the qubit using a random measurement basis.\n",
    "\n",
    "After the bits are transmitted, Alice and Bob both share the bases they used for each bit publically, and they then use the bits that were measured and sent in the same basis to establish a secret key, through the sifting process. \n",
    "\n",
    "If an eavesdropper is present (commonly called Eve), she can attempt to decypher the information by intercepting the photon, in any given basis she chooses (Z or X), and resending the measured bit in the chosen basis to minimize transmission. When doing this, she can measure the qubit/photon in the correct basis with a 50% chance, and send the properly encoded photon, or she can use the wrong basis with 50% probability, and send the measured bit in the same basis. \n",
    "\n",
    "As per the effect this has on the sifted key, when Eve measures in the correct basis, she will get and emit the correct bit, however, for the case in which she measures a basis different than Alice and Bob, she will encode the measured bit in a state of superposition as seen in Alice's and Bob's basis, hence resulting in a 50/50 probability of measuring either 0 or 1, and introducing noticeable errors or discrepancies in the bits measured by Bob, which will now be different than Alice's, with a 25% probability, due to Eve's interference. \n",
    "\n",
    "Assuming ideal hardware performance, in other words without the presence of errors, we can notice Eve's presence if there exists any discrepancy whatsoever between Alice's and Bob's bits after the sifting process. In the presence of errors, this becomes more complex. "
   ]
  },
  {
   "cell_type": "code",
   "execution_count": 1,
   "metadata": {},
   "outputs": [],
   "source": [
    "# Standard library imports\n",
    "import os\n",
    "import sys\n",
    "\n",
    "# Adjust the system path to include the project root\n",
    "# This allows for importing from other directories within the project structure.\n",
    "project_root = os.path.abspath(\"..\")  # Assumes this script is one level from the root\n",
    "sys.path.append(project_root)\n",
    "\n",
    "# Importing functions from src\n",
    "from src.Q_Communication import qkd\n",
    "from src.Q_Communication import qkd_errors"
   ]
  },
  {
   "cell_type": "code",
   "execution_count": 2,
   "metadata": {},
   "outputs": [
    {
     "name": "stdout",
     "output_type": "stream",
     "text": [
      "Alice's bits are:  [1 0 1 0 1 1 0 0 1 1 1 1 1 0 0 0 0 0 1 1 0 0 0 1 1 0 1 1 1 1 1 1]\n",
      "Alice's bases are: [1 0 1 0 0 1 1 0 0 1 1 1 1 0 0 1 1 1 1 1 1 0 1 1 0 0 1 1 1 0 0 1]\n",
      "Eve's bases are:   [1 0 0 1 1 0 0 1 0 0 0 0 1 1 1 1 0 1 1 0 0 0 1 1 1 0 1 0 0 1 0 0]\n",
      "Bob's bases are:   [0 0 1 1 0 1 1 1 0 1 1 1 0 0 1 0 1 0 0 1 0 0 1 1 1 1 0 1 0 0 1 1]\n"
     ]
    }
   ],
   "source": [
    "Eve = True\n",
    "n_bits = 32\n",
    "\n",
    "Alice_bits, Bases, circuits = qkd.initialize(n_bits, Eve)\n",
    "print(f\"Alice's bits are:  {Alice_bits}\")\n",
    "print(f\"Alice's bases are: {Bases[0]}\")\n",
    "print(f\"Eve's bases are:   {Bases[2]}\")\n",
    "print(f\"Bob's bases are:   {Bases[1]}\")\n",
    "\n"
   ]
  },
  {
   "cell_type": "code",
   "execution_count": 3,
   "metadata": {},
   "outputs": [
    {
     "data": {
      "image/png": "[encoded data removed]",
      "text/plain": [
       "<Figure size 143.647x200.667 with 1 Axes>"
      ]
     },
     "execution_count": 3,
     "metadata": {},
     "output_type": "execute_result"
    }
   ],
   "source": [
    "i = 0\n",
    "qc = circuits[i]\n",
    "qc.draw('mpl')"
   ]
  },
  {
   "cell_type": "code",
   "execution_count": 4,
   "metadata": {},
   "outputs": [],
   "source": [
    "qkd.Alice_qc(Alice_bits, Bases[0], circuits)"
   ]
  },
  {
   "cell_type": "code",
   "execution_count": 5,
   "metadata": {},
   "outputs": [
    {
     "data": {
      "image/png": "[encoded data removed]",
      "text/plain": [
       "<Figure size 269.064x200.667 with 1 Axes>"
      ]
     },
     "execution_count": 5,
     "metadata": {},
     "output_type": "execute_result"
    }
   ],
   "source": [
    "qc = circuits[i]\n",
    "qc.draw('mpl')"
   ]
  },
  {
   "cell_type": "code",
   "execution_count": 6,
   "metadata": {},
   "outputs": [],
   "source": [
    "if Eve == True:\n",
    "    qkd.Eve_qc(circuits, Bases[2])"
   ]
  },
  {
   "cell_type": "code",
   "execution_count": 7,
   "metadata": {},
   "outputs": [
    {
     "data": {
      "image/png": "[encoded data removed]",
      "text/plain": [
       "<Figure size 519.897x200.667 with 1 Axes>"
      ]
     },
     "execution_count": 7,
     "metadata": {},
     "output_type": "execute_result"
    }
   ],
   "source": [
    "qc = circuits[i]\n",
    "qc.draw('mpl')"
   ]
  },
  {
   "cell_type": "code",
   "execution_count": 8,
   "metadata": {},
   "outputs": [],
   "source": [
    "qkd.Bob_qc(circuits, Bases[1])"
   ]
  },
  {
   "cell_type": "code",
   "execution_count": 9,
   "metadata": {},
   "outputs": [
    {
     "data": {
      "image/png": "[encoded data removed]",
      "text/plain": [
       "<Figure size 603.508x200.667 with 1 Axes>"
      ]
     },
     "execution_count": 9,
     "metadata": {},
     "output_type": "execute_result"
    }
   ],
   "source": [
    "qc = circuits[i]\n",
    "qc.draw('mpl')"
   ]
  },
  {
   "cell_type": "code",
   "execution_count": 10,
   "metadata": {},
   "outputs": [],
   "source": [
    "measured_bits = []\n",
    "Alice_bases = Bases[0]; Bob_bases = Bases[1]\n",
    "measurements = qkd.run_circuits(circuits, Eve)"
   ]
  },
  {
   "cell_type": "code",
   "execution_count": 11,
   "metadata": {},
   "outputs": [
    {
     "data": {
      "text/plain": [
       "0.375"
      ]
     },
     "execution_count": 11,
     "metadata": {},
     "output_type": "execute_result"
    }
   ],
   "source": [
    "qkd_errors.qber(measurements[0], measurements[1])"
   ]
  },
  {
   "cell_type": "markdown",
   "metadata": {},
   "source": [
    "The __BB84 protocol__, which was detailed step by step previously, is briefly summarized in the next block of code in the notebook. This function takes in the amount of bits sent in total, and the presence of Eve. After having obtained the sifted key, the QBER (Quantum Bit Error Rate) metric is applied to it, which without the presence of hardware related errors should be 0, and would otherwise indicate the presence of Eve. The function returns the sifted key from Alice's and Bob's perspective, as well as the indices where the bases of the sent photon and the measured one were a match, which is the last list. "
   ]
  },
  {
   "cell_type": "code",
   "execution_count": 12,
   "metadata": {},
   "outputs": [
    {
     "name": "stdout",
     "output_type": "stream",
     "text": [
      "The QBER metric is: 0.2713178294573643\n",
      "2048\n"
     ]
    }
   ],
   "source": [
    "n = 11\n",
    "qkd.bb84_qkd(2 ** n, True)\n",
    "print(2 ** n)"
   ]
  },
  {
   "cell_type": "code",
   "execution_count": 21,
   "metadata": {},
   "outputs": [
    {
     "data": {
      "text/plain": [
       "np.complex128(6.123233995736766e-17+1j)"
      ]
     },
     "execution_count": 21,
     "metadata": {},
     "output_type": "execute_result"
    }
   ],
   "source": [
    "import numpy as np\n",
    "from numpy import exp, pi\n",
    "\n",
    "x = 1\n",
    "k = 2\n",
    "exp(2 * pi * 1j * x * (1/(2**k)))"
   ]
  }
 ],
 "metadata": {
  "kernelspec": {
   "display_name": "Python 3",
   "language": "python",
   "name": "python3"
  },
  "language_info": {
   "codemirror_mode": {
    "name": "ipython",
    "version": 3
   },
   "file_extension": ".py",
   "mimetype": "text/x-python",
   "name": "python",
   "nbconvert_exporter": "python",
   "pygments_lexer": "ipython3",
   "version": "3.12.7"
  }
 },
 "nbformat": 4,
 "nbformat_minor": 2
}
