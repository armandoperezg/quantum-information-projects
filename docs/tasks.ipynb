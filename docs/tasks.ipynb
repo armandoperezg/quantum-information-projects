{
 "cells": [
  {
   "cell_type": "markdown",
   "metadata": {},
   "source": [
    "#### General \n",
    "\n",
    "- Add document in docs folder that has info on the functionalities/features of the notebooks or each major subproject, such as algorithms, error correction, and currently QKD (BB84). \n",
    "---"
   ]
  },
  {
   "cell_type": "markdown",
   "metadata": {},
   "source": [
    "#### BB84 Protocol \n",
    "\n",
    "- Improve handling of input parameters to enable further scaling of the project\n",
    "- Add the possibility of moderating Eve's attack\n",
    "    - Eavesdropper when active, interferes in every bit sent by Alice and Bob. We should add a parameter to modulate Eve's attack frequency or strength\n",
    "- Implement Error Correction\n",
    "    - After key interchange, Alice and Bob need to reconcile their keys to account for errors due to noise or Eve's interference\n",
    "    - What to do: Implement error correction protocols, such as Cascade or Parity-based methods\n",
    "    - Analyze information leakage and it's impact on the security of the protocol\n",
    "- Implement Privacy Amplification\n",
    "- Implement other metrics (For each, verify if they are applied before or after error correction, or both)\n",
    "    - Key Mismtch Rate\n",
    "    - Sifting Efficiency\n",
    "    - Fidelity\n",
    "    - Bit Error Rate \n",
    "    - Mutual Information \n",
    "    - Eve's information gain\n",
    "    - Secure key rate\n",
    "    - Probability of Detection\n",
    "    - Channel Capacity\n",
    "    - Detection Efficiency\n",
    "    - Conditional Entropy\n",
    "    - Quantum Advantage Metric\n",
    "- Simulate realistic noise and loss\n",
    "    - Add photon loss or atenuation based on a fixed probability per bit\n",
    "    - Include depolarization or phase noise in the quantum channel to simulate real-world imperfections\n",
    "    - Anlyze how noise impacts the QBER and key rate, as well as other metrics to be implemented\n",
    "- Visualize results\n",
    "    - Plot QBER as a function of distance or noise level\n",
    "    - Show secure key rate vs. photon loss or Eve's presence\n",
    "    - Illustrate error reconciliation and privacy amplification steps graphically\n",
    "- Extend to other QKD Protocols\n",
    "\n",
    "Possible Future Implementations: \n",
    "- Implement Authentication\n",
    "- Analyze Key Rate vs. Distance\n",
    "- Introduce Advanced Eavesdropping strategies\n",
    "- Introduce Post-Quantum Cryptographic analysis\n",
    "- Experiment with Advanced Simulations \n",
    "    - Multi-party QKD\n",
    "    - Device-Independent QKD \n",
    "    - Finite Key Analysis\n",
    "\n",
    "---"
   ]
  },
  {
   "cell_type": "markdown",
   "metadata": {},
   "source": [
    "#### Quantum Algorithms\n",
    "\n",
    "Recommended order of implementation\n",
    "\n",
    "1. Deutsch Algorithm\n",
    "    - Add \n",
    "1. Deutsch-Jozsa Algorithm  \n",
    "2. Bernstein-Vazirani Algorithm  \n",
    "3. Grover's Algorithm  \n",
    "4. Quantum Fourier Transform (QFT)  \n",
    "5. Quantum Phase Estimation (QPE)  \n",
    "6. Shor's Algorithm  \n",
    "7. Variational Quantum Eigensolver (VQE)  \n",
    "8. Amplitude Estimation  \n",
    "9. HHL Algorithm  \n",
    "\n",
    "---"
   ]
  },
  {
   "cell_type": "markdown",
   "metadata": {},
   "source": [
    "#### Quantum Error Correction\n",
    "\n",
    "---"
   ]
  },
  {
   "cell_type": "markdown",
   "metadata": {},
   "source": [
    "#### Explore Quantum Computing Topics\n",
    "- Quantum Dot Simulation\n",
    "- Photonics Simulator for Quantum Communications\n",
    "- Superconducting qubits Simulation\n",
    "- Noise and decoherence in quantum systems simulator\n",
    "- Trapped Ion Dynamics\n",
    "\n",
    "---"
   ]
  }
 ],
 "metadata": {
  "language_info": {
   "name": "python"
  }
 },
 "nbformat": 4,
 "nbformat_minor": 2
}
